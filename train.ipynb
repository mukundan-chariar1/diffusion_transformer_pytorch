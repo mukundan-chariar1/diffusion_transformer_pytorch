{
  "cells": [
    {
      "cell_type": "markdown",
      "id": "655590fa",
      "metadata": {
        "id": "655590fa"
      },
      "source": [
        "## Clone repository"
      ]
    },
    {
      "cell_type": "code",
      "execution_count": null,
      "id": "9a3a0e02",
      "metadata": {
        "colab": {
          "base_uri": "https://localhost:8080/"
        },
        "id": "9a3a0e02",
        "outputId": "f4692fc8-fb59-41c4-dd2a-781069d2dffd"
      },
      "outputs": [],
      "source": [
        "!git clone https://github.com/mukundan-chariar1/diffusion_transformer_pytorch.git\n",
        "%cd /content//diffusion_transformer_pytorch\n",
        "\n",
        "!mkdir data\n",
        "!mkdir latent_data\n",
        "!mkdir weights"
      ]
    },
    {
      "cell_type": "markdown",
      "id": "aa426427",
      "metadata": {
        "id": "aa426427"
      },
      "source": [
        "## Install pip libraries"
      ]
    },
    {
      "cell_type": "code",
      "execution_count": null,
      "id": "3a1915f5",
      "metadata": {
        "colab": {
          "base_uri": "https://localhost:8080/"
        },
        "id": "3a1915f5",
        "outputId": "49dd7816-0a41-4b82-c5be-78bd2e39715b"
      },
      "outputs": [],
      "source": [
        "!pip install -U pip\n",
        "!pip install -r requirements.txt"
      ]
    },
    {
      "cell_type": "markdown",
      "id": "a66ce6b9",
      "metadata": {
        "id": "a66ce6b9"
      },
      "source": [
        "## Download data\n",
        "\n",
        "### Latent space data\n",
        "\n",
        "- download from this link: https://drive.google.com/file/d/1u1O0DrS3aiKbLQQIGHg0xHjXEpAKBlgs/view?usp=sharing\n",
        "- put in folder latent_data (created earlier)"
      ]
    },
    {
      "cell_type": "code",
      "execution_count": null,
      "id": "b423751a",
      "metadata": {
        "colab": {
          "base_uri": "https://localhost:8080/"
        },
        "id": "b423751a",
        "outputId": "9c3c35bb-9d36-4172-af27-236714bba433"
      },
      "outputs": [],
      "source": [
        "%cd data\n",
        "!curl -L -o ./landscape-pictures.zip  https://www.kaggle.com/api/v1/datasets/download/arnaud58/landscape-pictures\n",
        "!unzip ./landscape-pictures.zip\n",
        "!rm ./landscape-pictures.zip\n",
        "%cd ./../latent_data\n",
        "!unzip ./latent_data.zip\n",
        "!rm ./latent_data.zip"
      ]
    },
    {
      "cell_type": "markdown",
      "id": "625c9c73",
      "metadata": {
        "id": "625c9c73"
      },
      "source": [
        "## Begin training\n",
        "### Imports"
      ]
    },
    {
      "cell_type": "code",
      "execution_count": null,
      "id": "7a8eb1f5",
      "metadata": {
        "colab": {
          "base_uri": "https://localhost:8080/"
        },
        "id": "7a8eb1f5",
        "outputId": "28bf9d8e-aaac-430f-a422-22a0fd62c7f0"
      },
      "outputs": [],
      "source": [
        "%cd /content/diffusion_transformer_pytorch\n",
        "\n",
        "import torch\n",
        "import torchvision\n",
        "from torchsummary import summary\n",
        "from torch import nn\n",
        "\n",
        "from diffusers.models import AutoencoderKL\n",
        "\n",
        "import random\n",
        "import numpy as np\n",
        "\n",
        "from dataloader import *\n",
        "from embedding import *\n",
        "from diffusion import *\n",
        "\n",
        "from loss import *\n",
        "\n",
        "from autoencoder import *\n",
        "from transformer import *\n",
        "\n",
        "from train_DiT import *\n",
        "from train_vae import *\n",
        "\n",
        "from utils import *\n",
        "from testing import*\n",
        "\n",
        "import json\n",
        "\n",
        "from IPython import get_ipython\n",
        "from IPython.display import display, clear_output\n",
        "\n",
        "device ='cuda' if torch.cuda.is_available() else 'cpu'\n",
        "print(f'Device chosen: {device}')\n",
        "\n",
        "seed=42\n",
        "\n",
        "random.seed(seed)\n",
        "np.random.seed(seed)\n",
        "\n",
        "torch.manual_seed(seed)\n",
        "torch.cuda.manual_seed(seed)\n",
        "\n",
        "DATA_DIR=\"latent_data\"\n",
        "img_size=(256, 256)\n",
        "latent_size=(32, 32)\n",
        "latent_channels=4"
      ]
    },
    {
      "cell_type": "code",
      "execution_count": null,
      "id": "42d99b34",
      "metadata": {
        "colab": {
          "base_uri": "https://localhost:8080/",
          "height": 1000
        },
        "id": "42d99b34",
        "outputId": "877daae2-33af-47c7-c3b7-0cbc446478be"
      },
      "outputs": [],
      "source": [
        "sanity_check(ImageDataset('data',\n",
        "                                   transforms=torchvision.transforms.Compose([\n",
        "                                          torchvision.transforms.Resize(img_size, interpolation=torchvision.transforms.InterpolationMode.BILINEAR, antialias=True),\n",
        "                                          torchvision.transforms.ToTensor(),])),)"
      ]
    },
    {
      "cell_type": "code",
      "execution_count": null,
      "id": "C0l7H6XMacLy",
      "metadata": {
        "colab": {
          "base_uri": "https://localhost:8080/"
        },
        "id": "C0l7H6XMacLy",
        "outputId": "f66eb66c-03d5-4eca-f339-56af9c8a564e"
      },
      "outputs": [],
      "source": [
        "model_config=dict(\n",
        "    patch_size=2,\n",
        "    num_layers=8,\n",
        "    num_heads=6,\n",
        "    T=1000\n",
        ")\n",
        "config_string=f\"{model_config['patch_size']}_{model_config['num_layers']}_{model_config['num_heads']}_{model_config['T']}\"\n",
        "!mkdir weights/{config_string}\n",
        "\n",
        "with open(f\"weights/{config_string}/{config_string}.json\",\"w\") as f: json.dump(model_config, f, indent=2)\n",
        "\n",
        "print(f'All files will be saved under weights/{config_string}')"
      ]
    },
    {
      "cell_type": "code",
      "execution_count": null,
      "id": "6ee53a33",
      "metadata": {
        "id": "6ee53a33"
      },
      "outputs": [],
      "source": [
        "model=DiT(\n",
        "        input_size=latent_size,\n",
        "        embed_dim=384,\n",
        "        b_0=1e-4,\n",
        "        b_T=2e-2,\n",
        "        hidden_dim=384,\n",
        "        in_chans=latent_channels,\n",
        "        schedule_type='linear',\n",
        "        **model_config\n",
        "        )"
      ]
    },
    {
      "cell_type": "code",
      "execution_count": null,
      "id": "d336ce7d",
      "metadata": {
        "id": "d336ce7d"
      },
      "outputs": [],
      "source": [
        "train_transforms=torchvision.transforms.Compose([\n",
        "        torchvision.transforms.Resize(img_size, interpolation=torchvision.transforms.InterpolationMode.BILINEAR, antialias=True),\n",
        "        torchvision.transforms.ToTensor(),\n",
        "        torchvision.transforms.Normalize([0.5]*3, [0.5]*3),\n",
        "        ])\n",
        "\n",
        "test_dataset=train_dataset=ImageDatasetTransformer(DATA_DIR, train_transforms)"
      ]
    },
    {
      "cell_type": "code",
      "execution_count": null,
      "id": "26c1f25f",
      "metadata": {
        "colab": {
          "base_uri": "https://localhost:8080/",
          "height": 1000
        },
        "id": "26c1f25f",
        "outputId": "b985a1be-fdfd-4b2e-9a77-b08b3d43d409"
      },
      "outputs": [],
      "source": [
        "train_via_iter(\n",
        "        model,\n",
        "        train_dataset,\n",
        "        n_iters=1000,\n",
        "        plot_freq=50,\n",
        "        optimizer_name='AdamW',\n",
        "        optimizer_config={\"lr\": 1e-4, \"weight_decay\": 0},\n",
        "        batch_size=32,\n",
        "        config_string=config_string\n",
        "        )"
      ]
    },
    {
      "cell_type": "code",
      "execution_count": null,
      "id": "dwKImKn4f2zR",
      "metadata": {
        "colab": {
          "base_uri": "https://localhost:8080/"
        },
        "id": "dwKImKn4f2zR",
        "outputId": "606bfa62-8b10-4491-d161-9579cb914478"
      },
      "outputs": [],
      "source": [
        "torch.save(model.state_dict(), f'weights/{config_string}/{config_string}.pth')"
      ]
    },
    {
      "cell_type": "code",
      "execution_count": null,
      "id": "8f6fa45f",
      "metadata": {},
      "outputs": [],
      "source": [
        "calculate_fid(config_str)\n",
        "concat_images(config_str)"
      ]
    },
    {
      "cell_type": "code",
      "execution_count": null,
      "id": "1e7249fb",
      "metadata": {},
      "outputs": [],
      "source": [
        "!zip weights/{config_string}.zip weights/{config_string}/*"
      ]
    }
  ],
  "metadata": {
    "accelerator": "GPU",
    "colab": {
      "gpuType": "L4",
      "provenance": []
    },
    "kernelspec": {
      "display_name": "iisc",
      "language": "python",
      "name": "python3"
    },
    "language_info": {
      "codemirror_mode": {
        "name": "ipython",
        "version": 3
      },
      "file_extension": ".py",
      "mimetype": "text/x-python",
      "name": "python",
      "nbconvert_exporter": "python",
      "pygments_lexer": "ipython3",
      "version": "3.10.18"
    }
  },
  "nbformat": 4,
  "nbformat_minor": 5
}
